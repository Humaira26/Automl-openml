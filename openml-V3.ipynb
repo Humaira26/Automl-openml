{
 "cells": [
  {
   "cell_type": "code",
   "execution_count": 2,
   "metadata": {},
   "outputs": [],
   "source": [
    "import numpy as np\n",
    "import openml"
   ]
  },
  {
   "cell_type": "code",
   "execution_count": 3,
   "metadata": {},
   "outputs": [],
   "source": [
    "classification_tasks = [233, 236, 242, 244, 246, 75090, 248, 251, 75124, 253,\n",
    "                        254, 75092, 258,\n",
    "                        75093, 260, 261, 262, 75095, 266, 3043, 75097, 75098,\n",
    "                        75099, 75159,\n",
    "                        75100, 275, 288, 75103, 75105, 75106, 75107, 75108,\n",
    "                        75109, 75110,\n",
    "                        75112, 75113, 75114, 75115, 75116, 75117, 75119, 75120,\n",
    "                        75121, 75123,\n",
    "                        252, 75125, 75126, 75127, 75128, 75129, 2117, 2119,\n",
    "                        2120, 2122, 2123,\n",
    "                        75096, 75132, 75133, 75139, 75141, 75142, 75143, 75146,\n",
    "                        75148, 75150,\n",
    "                        75153, 75154, 75230, 75156, 75157, 273, 2350, 75197,\n",
    "                        75163, 75166,\n",
    "                        75169, 75171, 75172, 75173, 75174, 75175, 75176, 75177,\n",
    "                        75179, 75240,\n",
    "                        75184, 75185, 75189, 75191, 75192, 75193, 75195, 75196,\n",
    "                        75234, 75161,\n",
    "                        75198, 75168, 75201, 75202, 75203, 75188, 75205, 75207,\n",
    "                        75210, 75212,\n",
    "                        75213, 75215, 75217, 75219, 75221, 75222, 75223, 75134,\n",
    "                        75225, 75226,\n",
    "                        75227, 75231, 75232, 75233, 75101, 75235, 75236, 75237,\n",
    "                        75178, 75239,\n",
    "75181, 75187, 75250, 75249, 75248, 75243, 75244, 75182]"
   ]
  },
  {
   "cell_type": "code",
   "execution_count": 4,
   "metadata": {},
   "outputs": [],
   "source": [
    "#regression_tasks = [2280, 2288, 2289, 2292, 2300, 2306, 2307, 2309, 2313,\n",
    "                    #2315, 4768, 4769, 4772, 4774, 4779, 4790, 4796, 4835,\n",
    "#4840, 4881, 4883, 4885, 4892, 4893, 5022, 5024, 7393]"
   ]
  },
  {
   "cell_type": "code",
   "execution_count": 5,
   "metadata": {},
   "outputs": [],
   "source": [
    "def load_task(task_id):\n",
    "    task = openml.tasks.get_task(task_id)\n",
    "    X, y = task.get_X_and_y()\n",
    "    train_indices, test_indices = task.get_train_test_split_indices()\n",
    "    X_train = X[train_indices]\n",
    "    y_train = y[train_indices]\n",
    "    X_test = X[test_indices]\n",
    "    y_test = y[test_indices]\n",
    "    dataset = openml.datasets.get_dataset(task.dataset_id)\n",
    "    _, _, cat = dataset.get_data(return_categorical_indicator=True,\n",
    "target=task.target_name)\n",
    "    del _\n",
    "    del dataset\n",
    "    cat = ['categorical' if c else 'numerical' for c in cat]\n",
    "\n",
    "    unique = np.unique(y_train)\n",
    "    mapping = {unique_value: i for i, unique_value in enumerate(unique)}\n",
    "    y_train = np.array([mapping[value] for value in y_train])\n",
    "    y_test = np.array([mapping[value] for value in y_test])\n",
    "\n",
    "    return X_train, y_train, X_test, y_test, cat"
   ]
  },
  {
   "cell_type": "code",
   "execution_count": null,
   "metadata": {},
   "outputs": [],
   "source": []
  }
 ],
 "metadata": {
  "kernelspec": {
   "display_name": "Python 3",
   "language": "python",
   "name": "python3"
  },
  "language_info": {
   "codemirror_mode": {
    "name": "ipython",
    "version": 3
   },
   "file_extension": ".py",
   "mimetype": "text/x-python",
   "name": "python",
   "nbconvert_exporter": "python",
   "pygments_lexer": "ipython3",
   "version": "3.6.5"
  }
 },
 "nbformat": 4,
 "nbformat_minor": 2
}
